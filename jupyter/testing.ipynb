{
 "cells": [
  {
   "cell_type": "code",
   "execution_count": 1,
   "id": "d768d9b4-7f17-441b-b2f1-40fd1d393e46",
   "metadata": {},
   "outputs": [
    {
     "name": "stderr",
     "output_type": "stream",
     "text": [
      "2024-11-02 12:44:27.907851: E external/local_xla/xla/stream_executor/cuda/cuda_dnn.cc:9261] Unable to register cuDNN factory: Attempting to register factory for plugin cuDNN when one has already been registered\n",
      "2024-11-02 12:44:27.907895: E external/local_xla/xla/stream_executor/cuda/cuda_fft.cc:607] Unable to register cuFFT factory: Attempting to register factory for plugin cuFFT when one has already been registered\n",
      "2024-11-02 12:44:27.908620: E external/local_xla/xla/stream_executor/cuda/cuda_blas.cc:1515] Unable to register cuBLAS factory: Attempting to register factory for plugin cuBLAS when one has already been registered\n",
      "2024-11-02 12:44:27.914068: I tensorflow/core/platform/cpu_feature_guard.cc:182] This TensorFlow binary is optimized to use available CPU instructions in performance-critical operations.\n",
      "To enable the following instructions: AVX2 FMA, in other operations, rebuild TensorFlow with the appropriate compiler flags.\n",
      "2024-11-02 12:44:28.552022: W tensorflow/compiler/tf2tensorrt/utils/py_utils.cc:38] TF-TRT Warning: Could not find TensorRT\n"
     ]
    }
   ],
   "source": [
    "import os\n",
    "import numpy as np\n",
    "import keras\n",
    "from keras import layers\n",
    "from tensorflow import data as tf_data\n",
    "import tensorflow as tf\n",
    "#import matplotlib.pyplot as plt\n",
    "from PIL import Image\n",
    "from keras.layers import *\n",
    "from keras.optimizers import *"
   ]
  },
  {
   "cell_type": "code",
   "execution_count": 2,
   "id": "e43cae6c-55e2-4d2e-800f-c0df2a609a00",
   "metadata": {},
   "outputs": [
    {
     "name": "stderr",
     "output_type": "stream",
     "text": [
      "2024-11-02 11:54:10.526501: I external/local_xla/xla/stream_executor/cuda/cuda_executor.cc:887] could not open file to read NUMA node: /sys/bus/pci/devices/0000:01:00.0/numa_node\n",
      "Your kernel may have been built without NUMA support.\n",
      "2024-11-02 11:54:10.550325: I external/local_xla/xla/stream_executor/cuda/cuda_executor.cc:887] could not open file to read NUMA node: /sys/bus/pci/devices/0000:01:00.0/numa_node\n",
      "Your kernel may have been built without NUMA support.\n",
      "2024-11-02 11:54:10.550634: I external/local_xla/xla/stream_executor/cuda/cuda_executor.cc:887] could not open file to read NUMA node: /sys/bus/pci/devices/0000:01:00.0/numa_node\n",
      "Your kernel may have been built without NUMA support.\n"
     ]
    },
    {
     "data": {
      "text/plain": [
       "[PhysicalDevice(name='/physical_device:GPU:0', device_type='GPU')]"
      ]
     },
     "execution_count": 2,
     "metadata": {},
     "output_type": "execute_result"
    }
   ],
   "source": [
    "#!python3.9 -m pip install pillow\n",
    "tf.config.list_physical_devices('GPU') "
   ]
  },
  {
   "cell_type": "code",
   "execution_count": 7,
   "id": "9e96b4bc-bb38-461b-916b-e5b567601c87",
   "metadata": {},
   "outputs": [
    {
     "name": "stdout",
     "output_type": "stream",
     "text": [
      "cannot write mode RGBA as JPEG\n",
      "Error with image\n",
      "Total of 1 errors\n",
      "Total of 1 errors\n",
      "cannot write mode RGBA as JPEG\n",
      "Error with image\n",
      "Total of 2 errors\n",
      "cannot write mode RGBA as JPEG\n",
      "Error with image\n",
      "cannot write mode RGBA as JPEG\n",
      "Error with image\n",
      "Total of 4 errors\n",
      "Total of 4 errors\n",
      "cannot write mode RGBA as JPEG\n",
      "Error with image\n",
      "Total of 5 errors\n",
      "cannot write mode RGBA as JPEG\n",
      "Error with image\n",
      "Total of 6 errors\n",
      "Total of 6 errors\n",
      "Total of 6 errors\n"
     ]
    }
   ],
   "source": [
    "errorCount = 0\n",
    "DirectoryList = ['Anthurium (Anthurium andraeanum)',\n",
    " 'Bird of Paradise (Strelitzia reginae)',\n",
    " 'Boston Fern (Nephrolepis exaltata)',\n",
    " 'Chinese Money Plant (Pilea peperomioides)',\n",
    " 'Hyacinth (Hyacinthus orientalis)',\n",
    " 'Monstera Deliciosa (Monstera deliciosa)',\n",
    " 'Poinsettia (Euphorbia pulcherrima)',\n",
    " 'Prayer Plant (Maranta leuconeura)',\n",
    " 'Tradescantia']\n",
    "for dirn in DirectoryList:\n",
    "    for im in os.listdir(f\"Data/{dirn}\"):\n",
    "        try:\n",
    "            image = Image.open(f\"Data/{dirn}/{im}\")\n",
    "            new_image = image.resize((128, 128)) \n",
    "            new_image.save(f\"MoreScaled/{dirn}/{im}\") \n",
    "        except Exception as e:\n",
    "            print(e)\n",
    "            print(\"Error with image\")\n",
    "            errorCount += 1\n",
    "    print(f\"Total of {errorCount} errors\")"
   ]
  },
  {
   "cell_type": "code",
   "execution_count": 5,
   "id": "96a2e290",
   "metadata": {},
   "outputs": [],
   "source": [
    "for dirnam in os.listdir(\"Data/\"):\n",
    "    os.mkdir(f\"MoreScaled/{dirnam}\")"
   ]
  },
  {
   "cell_type": "code",
   "execution_count": 2,
   "id": "2a6d9b66",
   "metadata": {},
   "outputs": [
    {
     "name": "stdout",
     "output_type": "stream",
     "text": [
      "Found 3187 files belonging to 9 classes.\n",
      "Using 2550 files for training.\n",
      "Using 637 files for validation.\n"
     ]
    },
    {
     "name": "stderr",
     "output_type": "stream",
     "text": [
      "2024-11-02 12:44:34.867008: I external/local_xla/xla/stream_executor/cuda/cuda_executor.cc:887] could not open file to read NUMA node: /sys/bus/pci/devices/0000:01:00.0/numa_node\n",
      "Your kernel may have been built without NUMA support.\n",
      "2024-11-02 12:44:34.886110: I external/local_xla/xla/stream_executor/cuda/cuda_executor.cc:887] could not open file to read NUMA node: /sys/bus/pci/devices/0000:01:00.0/numa_node\n",
      "Your kernel may have been built without NUMA support.\n",
      "2024-11-02 12:44:34.886411: I external/local_xla/xla/stream_executor/cuda/cuda_executor.cc:887] could not open file to read NUMA node: /sys/bus/pci/devices/0000:01:00.0/numa_node\n",
      "Your kernel may have been built without NUMA support.\n",
      "2024-11-02 12:44:34.888748: I external/local_xla/xla/stream_executor/cuda/cuda_executor.cc:887] could not open file to read NUMA node: /sys/bus/pci/devices/0000:01:00.0/numa_node\n",
      "Your kernel may have been built without NUMA support.\n",
      "2024-11-02 12:44:34.889150: I external/local_xla/xla/stream_executor/cuda/cuda_executor.cc:887] could not open file to read NUMA node: /sys/bus/pci/devices/0000:01:00.0/numa_node\n",
      "Your kernel may have been built without NUMA support.\n",
      "2024-11-02 12:44:34.889349: I external/local_xla/xla/stream_executor/cuda/cuda_executor.cc:887] could not open file to read NUMA node: /sys/bus/pci/devices/0000:01:00.0/numa_node\n",
      "Your kernel may have been built without NUMA support.\n",
      "2024-11-02 12:44:35.019369: I external/local_xla/xla/stream_executor/cuda/cuda_executor.cc:887] could not open file to read NUMA node: /sys/bus/pci/devices/0000:01:00.0/numa_node\n",
      "Your kernel may have been built without NUMA support.\n",
      "2024-11-02 12:44:35.019568: I external/local_xla/xla/stream_executor/cuda/cuda_executor.cc:887] could not open file to read NUMA node: /sys/bus/pci/devices/0000:01:00.0/numa_node\n",
      "Your kernel may have been built without NUMA support.\n",
      "2024-11-02 12:44:35.019579: I tensorflow/core/common_runtime/gpu/gpu_device.cc:2022] Could not identify NUMA node of platform GPU id 0, defaulting to 0.  Your kernel may not have been built with NUMA support.\n",
      "2024-11-02 12:44:35.019749: I external/local_xla/xla/stream_executor/cuda/cuda_executor.cc:887] could not open file to read NUMA node: /sys/bus/pci/devices/0000:01:00.0/numa_node\n",
      "Your kernel may have been built without NUMA support.\n",
      "2024-11-02 12:44:35.019775: I tensorflow/core/common_runtime/gpu/gpu_device.cc:1929] Created device /job:localhost/replica:0/task:0/device:GPU:0 with 5582 MB memory:  -> device: 0, name: NVIDIA GeForce RTX 3070 Laptop GPU, pci bus id: 0000:01:00.0, compute capability: 8.6\n",
      "2024-11-02 12:44:35.402785: I external/local_tsl/tsl/platform/default/subprocess.cc:304] Start cannot spawn child process: Permission denied\n"
     ]
    }
   ],
   "source": [
    "image_size = (256, 256)\n",
    "batch_size = 4\n",
    "\n",
    "train_ds, val_ds = keras.utils.image_dataset_from_directory(\n",
    "    \"Scaled\",\n",
    "    validation_split=0.2,\n",
    "    label_mode='categorical',\n",
    "    subset=\"both\",\n",
    "    seed=99,\n",
    "    image_size=image_size,\n",
    "    batch_size=batch_size,\n",
    ")"
   ]
  },
  {
   "cell_type": "code",
   "execution_count": 3,
   "id": "5397efcd",
   "metadata": {},
   "outputs": [],
   "source": [
    "model = keras.Sequential()\n",
    "model.add(Input(shape=(256, 256, 3)))\n",
    "model.add(Rescaling(1.0/255))\n",
    "model.add(RandomBrightness(.4, value_range=[0.0, 1.0]))\n",
    "model.add(RandomFlip(mode=\"vertical\"))\n",
    "model.add(RandomContrast(.3, seed=None))\n",
    "model.add(Conv2D(32, kernel_size=(3, 3), padding='same'))\n",
    "model.add(Activation('relu'))\n",
    "model.add(MaxPooling2D(pool_size=(2, 2)))\n",
    "model.add(Dropout(0.75))\n",
    "\n",
    "model.add(Flatten())\n",
    "model.add(Dense(128))\n",
    "model.add(Activation('relu'))\n",
    "model.add(Dropout(0.5))\n",
    "model.add(Dense(9))\n",
    "model.add(Activation(tf.nn.softmax))"
   ]
  },
  {
   "cell_type": "code",
   "execution_count": 4,
   "id": "74150d3a",
   "metadata": {
    "scrolled": true
   },
   "outputs": [
    {
     "name": "stdout",
     "output_type": "stream",
     "text": [
      "Model: \"sequential\"\n",
      "_________________________________________________________________\n",
      " Layer (type)                Output Shape              Param #   \n",
      "=================================================================\n",
      " rescaling (Rescaling)       (None, 256, 256, 3)       0         \n",
      "                                                                 \n",
      " random_brightness (RandomB  (None, 256, 256, 3)       0         \n",
      " rightness)                                                      \n",
      "                                                                 \n",
      " random_flip (RandomFlip)    (None, 256, 256, 3)       0         \n",
      "                                                                 \n",
      " random_contrast (RandomCon  (None, 256, 256, 3)       0         \n",
      " trast)                                                          \n",
      "                                                                 \n",
      " conv2d (Conv2D)             (None, 256, 256, 32)      896       \n",
      "                                                                 \n",
      " activation (Activation)     (None, 256, 256, 32)      0         \n",
      "                                                                 \n",
      " max_pooling2d (MaxPooling2  (None, 128, 128, 32)      0         \n",
      " D)                                                              \n",
      "                                                                 \n",
      " dropout (Dropout)           (None, 128, 128, 32)      0         \n",
      "                                                                 \n",
      " flatten (Flatten)           (None, 524288)            0         \n",
      "                                                                 \n",
      " dense (Dense)               (None, 128)               67108992  \n",
      "                                                                 \n",
      " activation_1 (Activation)   (None, 128)               0         \n",
      "                                                                 \n",
      " dropout_1 (Dropout)         (None, 128)               0         \n",
      "                                                                 \n",
      " dense_1 (Dense)             (None, 9)                 1161      \n",
      "                                                                 \n",
      " activation_2 (Activation)   (None, 9)                 0         \n",
      "                                                                 \n",
      "=================================================================\n",
      "Total params: 67111049 (256.01 MB)\n",
      "Trainable params: 67111049 (256.01 MB)\n",
      "Non-trainable params: 0 (0.00 Byte)\n",
      "_________________________________________________________________\n"
     ]
    }
   ],
   "source": [
    "#sgd = SGD(learning_rate=0.01, decay=1e-6, momentum=0.9, nesterov=True)\n",
    "adam = Adam(learning_rate=0.0007)\n",
    "model.compile(loss='categorical_crossentropy', optimizer=adam, metrics=['accuracy', 'CategoricalCrossentropy'])\n",
    "model.summary()"
   ]
  },
  {
   "cell_type": "code",
   "execution_count": 5,
   "id": "5819a27f",
   "metadata": {},
   "outputs": [
    {
     "name": "stdout",
     "output_type": "stream",
     "text": [
      "Epoch 1/20\n"
     ]
    },
    {
     "name": "stderr",
     "output_type": "stream",
     "text": [
      "2024-11-02 12:45:05.108835: E tensorflow/core/grappler/optimizers/meta_optimizer.cc:961] layout failed: INVALID_ARGUMENT: Size of values 0 does not match size of permutation 4 @ fanin shape insequential/dropout/dropout/SelectV2-2-TransposeNHWCToNCHW-LayoutOptimizer\n",
      "2024-11-02 12:45:05.775002: I external/local_xla/xla/stream_executor/cuda/cuda_dnn.cc:454] Loaded cuDNN version 8904\n",
      "2024-11-02 12:45:05.884139: I external/local_tsl/tsl/platform/default/subprocess.cc:304] Start cannot spawn child process: Permission denied\n",
      "2024-11-02 12:45:06.707516: I external/local_xla/xla/service/service.cc:168] XLA service 0x7f790e2865b0 initialized for platform CUDA (this does not guarantee that XLA will be used). Devices:\n",
      "2024-11-02 12:45:06.707547: I external/local_xla/xla/service/service.cc:176]   StreamExecutor device (0): NVIDIA GeForce RTX 3070 Laptop GPU, Compute Capability 8.6\n",
      "2024-11-02 12:45:06.711994: I tensorflow/compiler/mlir/tensorflow/utils/dump_mlir_util.cc:269] disabling MLIR crash reproducer, set env var `MLIR_CRASH_REPRODUCER_DIRECTORY` to enable.\n",
      "WARNING: All log messages before absl::InitializeLog() is called are written to STDERR\n",
      "I0000 00:00:1730569506.770500   21726 device_compiler.h:186] Compiled cluster using XLA!  This line is logged at most once for the lifetime of the process.\n"
     ]
    },
    {
     "name": "stdout",
     "output_type": "stream",
     "text": [
      "420/638 [==================>...........] - ETA: 5s - loss: 2.7436 - accuracy: 0.2542 - categorical_crossentropy: 2.7436"
     ]
    },
    {
     "name": "stderr",
     "output_type": "stream",
     "text": [
      "2024-11-02 12:45:17.002518: W tensorflow/core/lib/png/png_io.cc:88] PNG warning: iCCP: known incorrect sRGB profile\n"
     ]
    },
    {
     "name": "stdout",
     "output_type": "stream",
     "text": [
      "524/638 [=======================>......] - ETA: 2s - loss: 2.5697 - accuracy: 0.2576 - categorical_crossentropy: 2.5697"
     ]
    },
    {
     "name": "stderr",
     "output_type": "stream",
     "text": [
      "2024-11-02 12:45:19.441428: W tensorflow/core/lib/png/png_io.cc:88] PNG warning: iCCP: known incorrect sRGB profile\n"
     ]
    },
    {
     "name": "stdout",
     "output_type": "stream",
     "text": [
      "638/638 [==============================] - 19s 26ms/step - loss: 2.4446 - accuracy: 0.2714 - categorical_crossentropy: 2.4446 - val_loss: 1.5954 - val_accuracy: 0.4160 - val_categorical_crossentropy: 1.5954\n",
      "Epoch 2/20\n",
      "421/638 [==================>...........] - ETA: 5s - loss: 1.8433 - accuracy: 0.3070 - categorical_crossentropy: 1.8433"
     ]
    },
    {
     "name": "stderr",
     "output_type": "stream",
     "text": [
      "2024-11-02 12:45:33.495055: W tensorflow/core/lib/png/png_io.cc:88] PNG warning: iCCP: known incorrect sRGB profile\n"
     ]
    },
    {
     "name": "stdout",
     "output_type": "stream",
     "text": [
      "525/638 [=======================>......] - ETA: 2s - loss: 1.8283 - accuracy: 0.3062 - categorical_crossentropy: 1.8283"
     ]
    },
    {
     "name": "stderr",
     "output_type": "stream",
     "text": [
      "2024-11-02 12:45:35.918513: W tensorflow/core/lib/png/png_io.cc:88] PNG warning: iCCP: known incorrect sRGB profile\n"
     ]
    },
    {
     "name": "stdout",
     "output_type": "stream",
     "text": [
      "638/638 [==============================] - 16s 25ms/step - loss: 1.8155 - accuracy: 0.3165 - categorical_crossentropy: 1.8155 - val_loss: 1.5156 - val_accuracy: 0.4615 - val_categorical_crossentropy: 1.5156\n",
      "Epoch 3/20\n",
      "421/638 [==================>...........] - ETA: 5s - loss: 1.7150 - accuracy: 0.3593 - categorical_crossentropy: 1.7150"
     ]
    },
    {
     "name": "stderr",
     "output_type": "stream",
     "text": [
      "2024-11-02 12:45:49.341848: W tensorflow/core/lib/png/png_io.cc:88] PNG warning: iCCP: known incorrect sRGB profile\n"
     ]
    },
    {
     "name": "stdout",
     "output_type": "stream",
     "text": [
      "524/638 [=======================>......] - ETA: 2s - loss: 1.6887 - accuracy: 0.3678 - categorical_crossentropy: 1.6887"
     ]
    },
    {
     "name": "stderr",
     "output_type": "stream",
     "text": [
      "2024-11-02 12:45:51.761848: W tensorflow/core/lib/png/png_io.cc:88] PNG warning: iCCP: known incorrect sRGB profile\n"
     ]
    },
    {
     "name": "stdout",
     "output_type": "stream",
     "text": [
      "638/638 [==============================] - 16s 25ms/step - loss: 1.6910 - accuracy: 0.3698 - categorical_crossentropy: 1.6910 - val_loss: 1.4966 - val_accuracy: 0.4615 - val_categorical_crossentropy: 1.4966\n",
      "Epoch 4/20\n",
      "421/638 [==================>...........] - ETA: 5s - loss: 1.6115 - accuracy: 0.4115 - categorical_crossentropy: 1.6115"
     ]
    },
    {
     "name": "stderr",
     "output_type": "stream",
     "text": [
      "2024-11-02 12:46:05.345139: W tensorflow/core/lib/png/png_io.cc:88] PNG warning: iCCP: known incorrect sRGB profile\n"
     ]
    },
    {
     "name": "stdout",
     "output_type": "stream",
     "text": [
      "523/638 [=======================>......] - ETA: 2s - loss: 1.6016 - accuracy: 0.4106 - categorical_crossentropy: 1.6016"
     ]
    },
    {
     "name": "stderr",
     "output_type": "stream",
     "text": [
      "2024-11-02 12:46:07.759900: W tensorflow/core/lib/png/png_io.cc:88] PNG warning: iCCP: known incorrect sRGB profile\n"
     ]
    },
    {
     "name": "stdout",
     "output_type": "stream",
     "text": [
      "638/638 [==============================] - 16s 25ms/step - loss: 1.5903 - accuracy: 0.4137 - categorical_crossentropy: 1.5903 - val_loss: 1.3850 - val_accuracy: 0.4992 - val_categorical_crossentropy: 1.3850\n",
      "Epoch 5/20\n",
      "419/638 [==================>...........] - ETA: 5s - loss: 1.5778 - accuracy: 0.4338 - categorical_crossentropy: 1.5778"
     ]
    },
    {
     "name": "stderr",
     "output_type": "stream",
     "text": [
      "2024-11-02 12:46:21.466774: W tensorflow/core/lib/png/png_io.cc:88] PNG warning: iCCP: known incorrect sRGB profile\n"
     ]
    },
    {
     "name": "stdout",
     "output_type": "stream",
     "text": [
      "523/638 [=======================>......] - ETA: 2s - loss: 1.5696 - accuracy: 0.4336 - categorical_crossentropy: 1.5696"
     ]
    },
    {
     "name": "stderr",
     "output_type": "stream",
     "text": [
      "2024-11-02 12:46:23.885390: W tensorflow/core/lib/png/png_io.cc:88] PNG warning: iCCP: known incorrect sRGB profile\n"
     ]
    },
    {
     "name": "stdout",
     "output_type": "stream",
     "text": [
      "638/638 [==============================] - 16s 25ms/step - loss: 1.5614 - accuracy: 0.4259 - categorical_crossentropy: 1.5614 - val_loss: 1.3786 - val_accuracy: 0.4600 - val_categorical_crossentropy: 1.3786\n",
      "Epoch 6/20\n",
      "422/638 [==================>...........] - ETA: 5s - loss: 1.4605 - accuracy: 0.4532 - categorical_crossentropy: 1.4605"
     ]
    },
    {
     "name": "stderr",
     "output_type": "stream",
     "text": [
      "2024-11-02 12:46:37.479879: W tensorflow/core/lib/png/png_io.cc:88] PNG warning: iCCP: known incorrect sRGB profile\n"
     ]
    },
    {
     "name": "stdout",
     "output_type": "stream",
     "text": [
      "524/638 [=======================>......] - ETA: 2s - loss: 1.4506 - accuracy: 0.4532 - categorical_crossentropy: 1.4506"
     ]
    },
    {
     "name": "stderr",
     "output_type": "stream",
     "text": [
      "2024-11-02 12:46:39.881208: W tensorflow/core/lib/png/png_io.cc:88] PNG warning: iCCP: known incorrect sRGB profile\n"
     ]
    },
    {
     "name": "stdout",
     "output_type": "stream",
     "text": [
      "638/638 [==============================] - 16s 25ms/step - loss: 1.4311 - accuracy: 0.4643 - categorical_crossentropy: 1.4311 - val_loss: 1.3423 - val_accuracy: 0.4819 - val_categorical_crossentropy: 1.3423\n",
      "Epoch 7/20\n",
      "419/638 [==================>...........] - ETA: 5s - loss: 1.4164 - accuracy: 0.4708 - categorical_crossentropy: 1.4164"
     ]
    },
    {
     "name": "stderr",
     "output_type": "stream",
     "text": [
      "2024-11-02 12:46:53.432879: W tensorflow/core/lib/png/png_io.cc:88] PNG warning: iCCP: known incorrect sRGB profile\n"
     ]
    },
    {
     "name": "stdout",
     "output_type": "stream",
     "text": [
      "523/638 [=======================>......] - ETA: 2s - loss: 1.4172 - accuracy: 0.4766 - categorical_crossentropy: 1.4172"
     ]
    },
    {
     "name": "stderr",
     "output_type": "stream",
     "text": [
      "2024-11-02 12:46:55.863333: W tensorflow/core/lib/png/png_io.cc:88] PNG warning: iCCP: known incorrect sRGB profile\n"
     ]
    },
    {
     "name": "stdout",
     "output_type": "stream",
     "text": [
      "638/638 [==============================] - 16s 25ms/step - loss: 1.3992 - accuracy: 0.4804 - categorical_crossentropy: 1.3992 - val_loss: 1.2836 - val_accuracy: 0.5275 - val_categorical_crossentropy: 1.2836\n",
      "Epoch 8/20\n",
      "420/638 [==================>...........] - ETA: 5s - loss: 1.3381 - accuracy: 0.5030 - categorical_crossentropy: 1.3381"
     ]
    },
    {
     "name": "stderr",
     "output_type": "stream",
     "text": [
      "2024-11-02 12:47:10.056695: W tensorflow/core/lib/png/png_io.cc:88] PNG warning: iCCP: known incorrect sRGB profile\n"
     ]
    },
    {
     "name": "stdout",
     "output_type": "stream",
     "text": [
      "524/638 [=======================>......] - ETA: 2s - loss: 1.3243 - accuracy: 0.5095 - categorical_crossentropy: 1.3243"
     ]
    },
    {
     "name": "stderr",
     "output_type": "stream",
     "text": [
      "2024-11-02 12:47:12.511350: W tensorflow/core/lib/png/png_io.cc:88] PNG warning: iCCP: known incorrect sRGB profile\n"
     ]
    },
    {
     "name": "stdout",
     "output_type": "stream",
     "text": [
      "638/638 [==============================] - 17s 26ms/step - loss: 1.3204 - accuracy: 0.5078 - categorical_crossentropy: 1.3204 - val_loss: 1.3112 - val_accuracy: 0.4961 - val_categorical_crossentropy: 1.3112\n",
      "Epoch 9/20\n",
      "420/638 [==================>...........] - ETA: 5s - loss: 1.2194 - accuracy: 0.5554 - categorical_crossentropy: 1.2194"
     ]
    },
    {
     "name": "stderr",
     "output_type": "stream",
     "text": [
      "2024-11-02 12:47:26.071055: W tensorflow/core/lib/png/png_io.cc:88] PNG warning: iCCP: known incorrect sRGB profile\n"
     ]
    },
    {
     "name": "stdout",
     "output_type": "stream",
     "text": [
      "524/638 [=======================>......] - ETA: 2s - loss: 1.2149 - accuracy: 0.5530 - categorical_crossentropy: 1.2149"
     ]
    },
    {
     "name": "stderr",
     "output_type": "stream",
     "text": [
      "2024-11-02 12:47:28.534974: W tensorflow/core/lib/png/png_io.cc:88] PNG warning: iCCP: known incorrect sRGB profile\n"
     ]
    },
    {
     "name": "stdout",
     "output_type": "stream",
     "text": [
      "638/638 [==============================] - 16s 25ms/step - loss: 1.2083 - accuracy: 0.5537 - categorical_crossentropy: 1.2083 - val_loss: 1.4408 - val_accuracy: 0.5369 - val_categorical_crossentropy: 1.4408\n",
      "Epoch 10/20\n",
      "419/638 [==================>...........] - ETA: 5s - loss: 1.1934 - accuracy: 0.5650 - categorical_crossentropy: 1.1934"
     ]
    },
    {
     "name": "stderr",
     "output_type": "stream",
     "text": [
      "2024-11-02 12:47:42.181091: W tensorflow/core/lib/png/png_io.cc:88] PNG warning: iCCP: known incorrect sRGB profile\n"
     ]
    },
    {
     "name": "stdout",
     "output_type": "stream",
     "text": [
      "523/638 [=======================>......] - ETA: 2s - loss: 1.1882 - accuracy: 0.5703 - categorical_crossentropy: 1.1882"
     ]
    },
    {
     "name": "stderr",
     "output_type": "stream",
     "text": [
      "2024-11-02 12:47:44.614667: W tensorflow/core/lib/png/png_io.cc:88] PNG warning: iCCP: known incorrect sRGB profile\n"
     ]
    },
    {
     "name": "stdout",
     "output_type": "stream",
     "text": [
      "638/638 [==============================] - 16s 25ms/step - loss: 1.1875 - accuracy: 0.5663 - categorical_crossentropy: 1.1875 - val_loss: 1.2680 - val_accuracy: 0.5510 - val_categorical_crossentropy: 1.2680\n",
      "Epoch 11/20\n",
      "421/638 [==================>...........] - ETA: 5s - loss: 1.1650 - accuracy: 0.5766 - categorical_crossentropy: 1.1650"
     ]
    },
    {
     "name": "stderr",
     "output_type": "stream",
     "text": [
      "2024-11-02 12:47:58.473542: W tensorflow/core/lib/png/png_io.cc:88] PNG warning: iCCP: known incorrect sRGB profile\n"
     ]
    },
    {
     "name": "stdout",
     "output_type": "stream",
     "text": [
      "523/638 [=======================>......] - ETA: 2s - loss: 1.1348 - accuracy: 0.5860 - categorical_crossentropy: 1.1348"
     ]
    },
    {
     "name": "stderr",
     "output_type": "stream",
     "text": [
      "2024-11-02 12:48:00.873894: W tensorflow/core/lib/png/png_io.cc:88] PNG warning: iCCP: known incorrect sRGB profile\n"
     ]
    },
    {
     "name": "stdout",
     "output_type": "stream",
     "text": [
      "638/638 [==============================] - 16s 25ms/step - loss: 1.1339 - accuracy: 0.5847 - categorical_crossentropy: 1.1339 - val_loss: 1.2892 - val_accuracy: 0.5479 - val_categorical_crossentropy: 1.2892\n",
      "Epoch 12/20\n",
      "419/638 [==================>...........] - ETA: 5s - loss: 1.1207 - accuracy: 0.5943 - categorical_crossentropy: 1.1207"
     ]
    },
    {
     "name": "stderr",
     "output_type": "stream",
     "text": [
      "2024-11-02 12:48:14.372180: W tensorflow/core/lib/png/png_io.cc:88] PNG warning: iCCP: known incorrect sRGB profile\n"
     ]
    },
    {
     "name": "stdout",
     "output_type": "stream",
     "text": [
      "523/638 [=======================>......] - ETA: 2s - loss: 1.1126 - accuracy: 0.6009 - categorical_crossentropy: 1.1126"
     ]
    },
    {
     "name": "stderr",
     "output_type": "stream",
     "text": [
      "2024-11-02 12:48:16.787297: W tensorflow/core/lib/png/png_io.cc:88] PNG warning: iCCP: known incorrect sRGB profile\n"
     ]
    },
    {
     "name": "stdout",
     "output_type": "stream",
     "text": [
      "638/638 [==============================] - 16s 25ms/step - loss: 1.0986 - accuracy: 0.6016 - categorical_crossentropy: 1.0986 - val_loss: 1.3059 - val_accuracy: 0.5479 - val_categorical_crossentropy: 1.3059\n",
      "Epoch 13/20\n",
      "421/638 [==================>...........] - ETA: 4s - loss: 1.0323 - accuracy: 0.6318 - categorical_crossentropy: 1.0323"
     ]
    },
    {
     "name": "stderr",
     "output_type": "stream",
     "text": [
      "2024-11-02 12:48:30.263622: W tensorflow/core/lib/png/png_io.cc:88] PNG warning: iCCP: known incorrect sRGB profile\n"
     ]
    },
    {
     "name": "stdout",
     "output_type": "stream",
     "text": [
      "525/638 [=======================>......] - ETA: 2s - loss: 1.0295 - accuracy: 0.6219 - categorical_crossentropy: 1.0295"
     ]
    },
    {
     "name": "stderr",
     "output_type": "stream",
     "text": [
      "2024-11-02 12:48:32.620745: W tensorflow/core/lib/png/png_io.cc:88] PNG warning: iCCP: known incorrect sRGB profile\n"
     ]
    },
    {
     "name": "stdout",
     "output_type": "stream",
     "text": [
      "638/638 [==============================] - 16s 25ms/step - loss: 1.0162 - accuracy: 0.6267 - categorical_crossentropy: 1.0162 - val_loss: 1.3782 - val_accuracy: 0.5181 - val_categorical_crossentropy: 1.3782\n",
      "Epoch 14/20\n",
      "422/638 [==================>...........] - ETA: 4s - loss: 1.0083 - accuracy: 0.6327 - categorical_crossentropy: 1.0083"
     ]
    },
    {
     "name": "stderr",
     "output_type": "stream",
     "text": [
      "2024-11-02 12:48:45.897213: W tensorflow/core/lib/png/png_io.cc:88] PNG warning: iCCP: known incorrect sRGB profile\n"
     ]
    },
    {
     "name": "stdout",
     "output_type": "stream",
     "text": [
      "524/638 [=======================>......] - ETA: 2s - loss: 1.0107 - accuracy: 0.6326 - categorical_crossentropy: 1.0107"
     ]
    },
    {
     "name": "stderr",
     "output_type": "stream",
     "text": [
      "2024-11-02 12:48:48.244814: W tensorflow/core/lib/png/png_io.cc:88] PNG warning: iCCP: known incorrect sRGB profile\n"
     ]
    },
    {
     "name": "stdout",
     "output_type": "stream",
     "text": [
      "638/638 [==============================] - 16s 24ms/step - loss: 0.9953 - accuracy: 0.6400 - categorical_crossentropy: 0.9953 - val_loss: 1.3993 - val_accuracy: 0.5416 - val_categorical_crossentropy: 1.3993\n",
      "Epoch 15/20\n",
      "421/638 [==================>...........] - ETA: 4s - loss: 1.0038 - accuracy: 0.6324 - categorical_crossentropy: 1.0038"
     ]
    },
    {
     "name": "stderr",
     "output_type": "stream",
     "text": [
      "2024-11-02 12:49:01.444520: W tensorflow/core/lib/png/png_io.cc:88] PNG warning: iCCP: known incorrect sRGB profile\n"
     ]
    },
    {
     "name": "stdout",
     "output_type": "stream",
     "text": [
      "526/638 [=======================>......] - ETA: 2s - loss: 0.9833 - accuracy: 0.6435 - categorical_crossentropy: 0.9833"
     ]
    },
    {
     "name": "stderr",
     "output_type": "stream",
     "text": [
      "2024-11-02 12:49:03.806761: W tensorflow/core/lib/png/png_io.cc:88] PNG warning: iCCP: known incorrect sRGB profile\n"
     ]
    },
    {
     "name": "stdout",
     "output_type": "stream",
     "text": [
      "638/638 [==============================] - 16s 24ms/step - loss: 0.9865 - accuracy: 0.6412 - categorical_crossentropy: 0.9865 - val_loss: 1.3224 - val_accuracy: 0.5369 - val_categorical_crossentropy: 1.3224\n",
      "Epoch 16/20\n",
      "421/638 [==================>...........] - ETA: 4s - loss: 0.9062 - accuracy: 0.6722 - categorical_crossentropy: 0.9062"
     ]
    },
    {
     "name": "stderr",
     "output_type": "stream",
     "text": [
      "2024-11-02 12:49:17.039982: W tensorflow/core/lib/png/png_io.cc:88] PNG warning: iCCP: known incorrect sRGB profile\n"
     ]
    },
    {
     "name": "stdout",
     "output_type": "stream",
     "text": [
      "526/638 [=======================>......] - ETA: 2s - loss: 0.9059 - accuracy: 0.6735 - categorical_crossentropy: 0.9059"
     ]
    },
    {
     "name": "stderr",
     "output_type": "stream",
     "text": [
      "2024-11-02 12:49:19.383930: W tensorflow/core/lib/png/png_io.cc:88] PNG warning: iCCP: known incorrect sRGB profile\n"
     ]
    },
    {
     "name": "stdout",
     "output_type": "stream",
     "text": [
      "638/638 [==============================] - 16s 24ms/step - loss: 0.8852 - accuracy: 0.6812 - categorical_crossentropy: 0.8852 - val_loss: 1.4506 - val_accuracy: 0.5228 - val_categorical_crossentropy: 1.4506\n",
      "Epoch 17/20\n",
      "421/638 [==================>...........] - ETA: 4s - loss: 0.9159 - accuracy: 0.6722 - categorical_crossentropy: 0.9159"
     ]
    },
    {
     "name": "stderr",
     "output_type": "stream",
     "text": [
      "2024-11-02 12:49:32.611554: W tensorflow/core/lib/png/png_io.cc:88] PNG warning: iCCP: known incorrect sRGB profile\n"
     ]
    },
    {
     "name": "stdout",
     "output_type": "stream",
     "text": [
      "526/638 [=======================>......] - ETA: 2s - loss: 0.8976 - accuracy: 0.6825 - categorical_crossentropy: 0.8976"
     ]
    },
    {
     "name": "stderr",
     "output_type": "stream",
     "text": [
      "2024-11-02 12:49:34.950556: W tensorflow/core/lib/png/png_io.cc:88] PNG warning: iCCP: known incorrect sRGB profile\n"
     ]
    },
    {
     "name": "stdout",
     "output_type": "stream",
     "text": [
      "638/638 [==============================] - 16s 24ms/step - loss: 0.8781 - accuracy: 0.6863 - categorical_crossentropy: 0.8781 - val_loss: 1.3819 - val_accuracy: 0.5510 - val_categorical_crossentropy: 1.3819\n",
      "Epoch 18/20\n",
      "421/638 [==================>...........] - ETA: 4s - loss: 0.8656 - accuracy: 0.6770 - categorical_crossentropy: 0.8656"
     ]
    },
    {
     "name": "stderr",
     "output_type": "stream",
     "text": [
      "2024-11-02 12:49:48.114989: W tensorflow/core/lib/png/png_io.cc:88] PNG warning: iCCP: known incorrect sRGB profile\n"
     ]
    },
    {
     "name": "stdout",
     "output_type": "stream",
     "text": [
      "526/638 [=======================>......] - ETA: 2s - loss: 0.8606 - accuracy: 0.6792 - categorical_crossentropy: 0.8606"
     ]
    },
    {
     "name": "stderr",
     "output_type": "stream",
     "text": [
      "2024-11-02 12:49:50.453980: W tensorflow/core/lib/png/png_io.cc:88] PNG warning: iCCP: known incorrect sRGB profile\n"
     ]
    },
    {
     "name": "stdout",
     "output_type": "stream",
     "text": [
      "638/638 [==============================] - 16s 24ms/step - loss: 0.8730 - accuracy: 0.6780 - categorical_crossentropy: 0.8730 - val_loss: 1.5169 - val_accuracy: 0.5149 - val_categorical_crossentropy: 1.5169\n",
      "Epoch 19/20\n",
      "421/638 [==================>...........] - ETA: 4s - loss: 0.8493 - accuracy: 0.7037 - categorical_crossentropy: 0.8493"
     ]
    },
    {
     "name": "stderr",
     "output_type": "stream",
     "text": [
      "2024-11-02 12:50:03.700706: W tensorflow/core/lib/png/png_io.cc:88] PNG warning: iCCP: known incorrect sRGB profile\n"
     ]
    },
    {
     "name": "stdout",
     "output_type": "stream",
     "text": [
      "526/638 [=======================>......] - ETA: 2s - loss: 0.8377 - accuracy: 0.7082 - categorical_crossentropy: 0.8377"
     ]
    },
    {
     "name": "stderr",
     "output_type": "stream",
     "text": [
      "2024-11-02 12:50:06.030624: W tensorflow/core/lib/png/png_io.cc:88] PNG warning: iCCP: known incorrect sRGB profile\n"
     ]
    },
    {
     "name": "stdout",
     "output_type": "stream",
     "text": [
      "638/638 [==============================] - 15s 24ms/step - loss: 0.8163 - accuracy: 0.7157 - categorical_crossentropy: 0.8163 - val_loss: 1.4305 - val_accuracy: 0.5338 - val_categorical_crossentropy: 1.4305\n",
      "Epoch 20/20\n",
      "421/638 [==================>...........] - ETA: 4s - loss: 0.7938 - accuracy: 0.7090 - categorical_crossentropy: 0.7938"
     ]
    },
    {
     "name": "stderr",
     "output_type": "stream",
     "text": [
      "2024-11-02 12:50:19.192216: W tensorflow/core/lib/png/png_io.cc:88] PNG warning: iCCP: known incorrect sRGB profile\n"
     ]
    },
    {
     "name": "stdout",
     "output_type": "stream",
     "text": [
      "526/638 [=======================>......] - ETA: 2s - loss: 0.8145 - accuracy: 0.7025 - categorical_crossentropy: 0.8145"
     ]
    },
    {
     "name": "stderr",
     "output_type": "stream",
     "text": [
      "2024-11-02 12:50:21.531734: W tensorflow/core/lib/png/png_io.cc:88] PNG warning: iCCP: known incorrect sRGB profile\n"
     ]
    },
    {
     "name": "stdout",
     "output_type": "stream",
     "text": [
      "638/638 [==============================] - 15s 24ms/step - loss: 0.8109 - accuracy: 0.7043 - categorical_crossentropy: 0.8109 - val_loss: 1.4265 - val_accuracy: 0.5228 - val_categorical_crossentropy: 1.4265\n"
     ]
    },
    {
     "data": {
      "text/plain": [
       "<keras.src.callbacks.History at 0x7f7ad1bbd0d0>"
      ]
     },
     "execution_count": 5,
     "metadata": {},
     "output_type": "execute_result"
    }
   ],
   "source": [
    "model.fit(train_ds, epochs=20, validation_data=val_ds)"
   ]
  },
  {
   "cell_type": "code",
   "execution_count": 6,
   "id": "3842ab4f",
   "metadata": {},
   "outputs": [
    {
     "name": "stdout",
     "output_type": "stream",
     "text": [
      "Epoch 1/30\n",
      "421/638 [==================>...........] - ETA: 4s - loss: 0.7783 - accuracy: 0.7262 - categorical_crossentropy: 0.7783"
     ]
    },
    {
     "name": "stderr",
     "output_type": "stream",
     "text": [
      "2024-11-02 12:50:34.757616: W tensorflow/core/lib/png/png_io.cc:88] PNG warning: iCCP: known incorrect sRGB profile\n"
     ]
    },
    {
     "name": "stdout",
     "output_type": "stream",
     "text": [
      "526/638 [=======================>......] - ETA: 2s - loss: 0.7720 - accuracy: 0.7281 - categorical_crossentropy: 0.7720"
     ]
    },
    {
     "name": "stderr",
     "output_type": "stream",
     "text": [
      "2024-11-02 12:50:37.096637: W tensorflow/core/lib/png/png_io.cc:88] PNG warning: iCCP: known incorrect sRGB profile\n"
     ]
    },
    {
     "name": "stdout",
     "output_type": "stream",
     "text": [
      "638/638 [==============================] - 16s 24ms/step - loss: 0.7746 - accuracy: 0.7263 - categorical_crossentropy: 0.7746 - val_loss: 1.4206 - val_accuracy: 0.5510 - val_categorical_crossentropy: 1.4206\n",
      "Epoch 2/30\n",
      "421/638 [==================>...........] - ETA: 4s - loss: 0.7305 - accuracy: 0.7476 - categorical_crossentropy: 0.7305"
     ]
    },
    {
     "name": "stderr",
     "output_type": "stream",
     "text": [
      "2024-11-02 12:50:50.268807: W tensorflow/core/lib/png/png_io.cc:88] PNG warning: iCCP: known incorrect sRGB profile\n"
     ]
    },
    {
     "name": "stdout",
     "output_type": "stream",
     "text": [
      "526/638 [=======================>......] - ETA: 2s - loss: 0.7283 - accuracy: 0.7495 - categorical_crossentropy: 0.7283"
     ]
    },
    {
     "name": "stderr",
     "output_type": "stream",
     "text": [
      "2024-11-02 12:50:52.622693: W tensorflow/core/lib/png/png_io.cc:88] PNG warning: iCCP: known incorrect sRGB profile\n"
     ]
    },
    {
     "name": "stdout",
     "output_type": "stream",
     "text": [
      "638/638 [==============================] - 16s 24ms/step - loss: 0.7253 - accuracy: 0.7490 - categorical_crossentropy: 0.7253 - val_loss: 1.4118 - val_accuracy: 0.5463 - val_categorical_crossentropy: 1.4118\n",
      "Epoch 3/30\n",
      "422/638 [==================>...........] - ETA: 4s - loss: 0.7457 - accuracy: 0.7334 - categorical_crossentropy: 0.7457"
     ]
    },
    {
     "name": "stderr",
     "output_type": "stream",
     "text": [
      "2024-11-02 12:51:05.753734: W tensorflow/core/lib/png/png_io.cc:88] PNG warning: iCCP: known incorrect sRGB profile\n"
     ]
    },
    {
     "name": "stdout",
     "output_type": "stream",
     "text": [
      "524/638 [=======================>......] - ETA: 2s - loss: 0.7303 - accuracy: 0.7385 - categorical_crossentropy: 0.7303"
     ]
    },
    {
     "name": "stderr",
     "output_type": "stream",
     "text": [
      "2024-11-02 12:51:08.086343: W tensorflow/core/lib/png/png_io.cc:88] PNG warning: iCCP: known incorrect sRGB profile\n"
     ]
    },
    {
     "name": "stdout",
     "output_type": "stream",
     "text": [
      "638/638 [==============================] - 15s 24ms/step - loss: 0.7194 - accuracy: 0.7424 - categorical_crossentropy: 0.7194 - val_loss: 1.4193 - val_accuracy: 0.5275 - val_categorical_crossentropy: 1.4193\n",
      "Epoch 4/30\n",
      "420/638 [==================>...........] - ETA: 4s - loss: 0.7714 - accuracy: 0.7446 - categorical_crossentropy: 0.7714"
     ]
    },
    {
     "name": "stderr",
     "output_type": "stream",
     "text": [
      "2024-11-02 12:51:21.210301: W tensorflow/core/lib/png/png_io.cc:88] PNG warning: iCCP: known incorrect sRGB profile\n"
     ]
    },
    {
     "name": "stdout",
     "output_type": "stream",
     "text": [
      "525/638 [=======================>......] - ETA: 2s - loss: 0.7606 - accuracy: 0.7452 - categorical_crossentropy: 0.7606"
     ]
    },
    {
     "name": "stderr",
     "output_type": "stream",
     "text": [
      "2024-11-02 12:51:23.551990: W tensorflow/core/lib/png/png_io.cc:88] PNG warning: iCCP: known incorrect sRGB profile\n"
     ]
    },
    {
     "name": "stdout",
     "output_type": "stream",
     "text": [
      "638/638 [==============================] - 15s 24ms/step - loss: 0.7594 - accuracy: 0.7427 - categorical_crossentropy: 0.7594 - val_loss: 1.7108 - val_accuracy: 0.5306 - val_categorical_crossentropy: 1.7108\n",
      "Epoch 5/30\n",
      "420/638 [==================>...........] - ETA: 4s - loss: 0.7171 - accuracy: 0.7238 - categorical_crossentropy: 0.7171"
     ]
    },
    {
     "name": "stderr",
     "output_type": "stream",
     "text": [
      "2024-11-02 12:51:36.698135: W tensorflow/core/lib/png/png_io.cc:88] PNG warning: iCCP: known incorrect sRGB profile\n"
     ]
    },
    {
     "name": "stdout",
     "output_type": "stream",
     "text": [
      "525/638 [=======================>......] - ETA: 2s - loss: 0.7015 - accuracy: 0.7329 - categorical_crossentropy: 0.7015"
     ]
    },
    {
     "name": "stderr",
     "output_type": "stream",
     "text": [
      "2024-11-02 12:51:39.024030: W tensorflow/core/lib/png/png_io.cc:88] PNG warning: iCCP: known incorrect sRGB profile\n"
     ]
    },
    {
     "name": "stdout",
     "output_type": "stream",
     "text": [
      "638/638 [==============================] - 15s 24ms/step - loss: 0.6879 - accuracy: 0.7396 - categorical_crossentropy: 0.6879 - val_loss: 1.5280 - val_accuracy: 0.5196 - val_categorical_crossentropy: 1.5280\n",
      "Epoch 6/30\n",
      "420/638 [==================>...........] - ETA: 4s - loss: 0.6792 - accuracy: 0.7500 - categorical_crossentropy: 0.6792"
     ]
    },
    {
     "name": "stderr",
     "output_type": "stream",
     "text": [
      "2024-11-02 12:51:52.192698: W tensorflow/core/lib/png/png_io.cc:88] PNG warning: iCCP: known incorrect sRGB profile\n"
     ]
    },
    {
     "name": "stdout",
     "output_type": "stream",
     "text": [
      "524/638 [=======================>......] - ETA: 2s - loss: 0.7028 - accuracy: 0.7490 - categorical_crossentropy: 0.7028"
     ]
    },
    {
     "name": "stderr",
     "output_type": "stream",
     "text": [
      "2024-11-02 12:51:54.601797: W tensorflow/core/lib/png/png_io.cc:88] PNG warning: iCCP: known incorrect sRGB profile\n"
     ]
    },
    {
     "name": "stdout",
     "output_type": "stream",
     "text": [
      "638/638 [==============================] - 16s 26ms/step - loss: 0.6939 - accuracy: 0.7510 - categorical_crossentropy: 0.6939 - val_loss: 1.6600 - val_accuracy: 0.5400 - val_categorical_crossentropy: 1.6600\n",
      "Epoch 7/30\n",
      "420/638 [==================>...........] - ETA: 5s - loss: 0.6708 - accuracy: 0.7613 - categorical_crossentropy: 0.6708"
     ]
    },
    {
     "name": "stderr",
     "output_type": "stream",
     "text": [
      "2024-11-02 12:52:08.768917: W tensorflow/core/lib/png/png_io.cc:88] PNG warning: iCCP: known incorrect sRGB profile\n"
     ]
    },
    {
     "name": "stdout",
     "output_type": "stream",
     "text": [
      "524/638 [=======================>......] - ETA: 2s - loss: 0.6623 - accuracy: 0.7619 - categorical_crossentropy: 0.6623"
     ]
    },
    {
     "name": "stderr",
     "output_type": "stream",
     "text": [
      "2024-11-02 12:52:11.159156: W tensorflow/core/lib/png/png_io.cc:88] PNG warning: iCCP: known incorrect sRGB profile\n"
     ]
    },
    {
     "name": "stdout",
     "output_type": "stream",
     "text": [
      "638/638 [==============================] - 16s 25ms/step - loss: 0.6536 - accuracy: 0.7686 - categorical_crossentropy: 0.6536 - val_loss: 1.8680 - val_accuracy: 0.4882 - val_categorical_crossentropy: 1.8680\n",
      "Epoch 8/30\n",
      "422/638 [==================>...........] - ETA: 4s - loss: 0.6791 - accuracy: 0.7654 - categorical_crossentropy: 0.6791"
     ]
    },
    {
     "name": "stderr",
     "output_type": "stream",
     "text": [
      "2024-11-02 12:52:24.631383: W tensorflow/core/lib/png/png_io.cc:88] PNG warning: iCCP: known incorrect sRGB profile\n"
     ]
    },
    {
     "name": "stdout",
     "output_type": "stream",
     "text": [
      "524/638 [=======================>......] - ETA: 2s - loss: 0.6757 - accuracy: 0.7581 - categorical_crossentropy: 0.6757"
     ]
    },
    {
     "name": "stderr",
     "output_type": "stream",
     "text": [
      "2024-11-02 12:52:27.017539: W tensorflow/core/lib/png/png_io.cc:88] PNG warning: iCCP: known incorrect sRGB profile\n"
     ]
    },
    {
     "name": "stdout",
     "output_type": "stream",
     "text": [
      "638/638 [==============================] - 16s 25ms/step - loss: 0.6685 - accuracy: 0.7608 - categorical_crossentropy: 0.6685 - val_loss: 1.5448 - val_accuracy: 0.5290 - val_categorical_crossentropy: 1.5448\n",
      "Epoch 9/30\n",
      "420/638 [==================>...........] - ETA: 4s - loss: 0.6109 - accuracy: 0.7821 - categorical_crossentropy: 0.6109"
     ]
    },
    {
     "name": "stderr",
     "output_type": "stream",
     "text": [
      "2024-11-02 12:52:40.431434: W tensorflow/core/lib/png/png_io.cc:88] PNG warning: iCCP: known incorrect sRGB profile\n"
     ]
    },
    {
     "name": "stdout",
     "output_type": "stream",
     "text": [
      "525/638 [=======================>......] - ETA: 2s - loss: 0.5988 - accuracy: 0.7810 - categorical_crossentropy: 0.5988"
     ]
    },
    {
     "name": "stderr",
     "output_type": "stream",
     "text": [
      "2024-11-02 12:52:42.805102: W tensorflow/core/lib/png/png_io.cc:88] PNG warning: iCCP: known incorrect sRGB profile\n"
     ]
    },
    {
     "name": "stdout",
     "output_type": "stream",
     "text": [
      "638/638 [==============================] - 16s 25ms/step - loss: 0.6005 - accuracy: 0.7831 - categorical_crossentropy: 0.6005 - val_loss: 1.4718 - val_accuracy: 0.5416 - val_categorical_crossentropy: 1.4718\n",
      "Epoch 10/30\n",
      "420/638 [==================>...........] - ETA: 4s - loss: 0.6102 - accuracy: 0.7833 - categorical_crossentropy: 0.6102"
     ]
    },
    {
     "name": "stderr",
     "output_type": "stream",
     "text": [
      "2024-11-02 12:52:56.028002: W tensorflow/core/lib/png/png_io.cc:88] PNG warning: iCCP: known incorrect sRGB profile\n"
     ]
    },
    {
     "name": "stdout",
     "output_type": "stream",
     "text": [
      "524/638 [=======================>......] - ETA: 2s - loss: 0.6136 - accuracy: 0.7786 - categorical_crossentropy: 0.6136"
     ]
    },
    {
     "name": "stderr",
     "output_type": "stream",
     "text": [
      "2024-11-02 12:52:58.376184: W tensorflow/core/lib/png/png_io.cc:88] PNG warning: iCCP: known incorrect sRGB profile\n"
     ]
    },
    {
     "name": "stdout",
     "output_type": "stream",
     "text": [
      "638/638 [==============================] - 16s 24ms/step - loss: 0.6245 - accuracy: 0.7780 - categorical_crossentropy: 0.6245 - val_loss: 1.5979 - val_accuracy: 0.5432 - val_categorical_crossentropy: 1.5979\n",
      "Epoch 11/30\n",
      "420/638 [==================>...........] - ETA: 4s - loss: 0.5745 - accuracy: 0.8006 - categorical_crossentropy: 0.5745"
     ]
    },
    {
     "name": "stderr",
     "output_type": "stream",
     "text": [
      "2024-11-02 12:53:11.577262: W tensorflow/core/lib/png/png_io.cc:88] PNG warning: iCCP: known incorrect sRGB profile\n"
     ]
    },
    {
     "name": "stdout",
     "output_type": "stream",
     "text": [
      "525/638 [=======================>......] - ETA: 2s - loss: 0.5850 - accuracy: 0.7967 - categorical_crossentropy: 0.5850"
     ]
    },
    {
     "name": "stderr",
     "output_type": "stream",
     "text": [
      "2024-11-02 12:53:13.908372: W tensorflow/core/lib/png/png_io.cc:88] PNG warning: iCCP: known incorrect sRGB profile\n"
     ]
    },
    {
     "name": "stdout",
     "output_type": "stream",
     "text": [
      "638/638 [==============================] - 16s 24ms/step - loss: 0.5805 - accuracy: 0.7961 - categorical_crossentropy: 0.5805 - val_loss: 1.7131 - val_accuracy: 0.5275 - val_categorical_crossentropy: 1.7131\n",
      "Epoch 12/30\n",
      "420/638 [==================>...........] - ETA: 4s - loss: 0.6060 - accuracy: 0.7958 - categorical_crossentropy: 0.6060"
     ]
    },
    {
     "name": "stderr",
     "output_type": "stream",
     "text": [
      "2024-11-02 12:53:27.333637: W tensorflow/core/lib/png/png_io.cc:88] PNG warning: iCCP: known incorrect sRGB profile\n"
     ]
    },
    {
     "name": "stdout",
     "output_type": "stream",
     "text": [
      "525/638 [=======================>......] - ETA: 2s - loss: 0.6250 - accuracy: 0.7938 - categorical_crossentropy: 0.6250"
     ]
    },
    {
     "name": "stderr",
     "output_type": "stream",
     "text": [
      "2024-11-02 12:53:29.707790: W tensorflow/core/lib/png/png_io.cc:88] PNG warning: iCCP: known incorrect sRGB profile\n"
     ]
    },
    {
     "name": "stdout",
     "output_type": "stream",
     "text": [
      "638/638 [==============================] - 16s 25ms/step - loss: 0.6082 - accuracy: 0.7965 - categorical_crossentropy: 0.6082 - val_loss: 1.5335 - val_accuracy: 0.5385 - val_categorical_crossentropy: 1.5335\n",
      "Epoch 13/30\n",
      "421/638 [==================>...........] - ETA: 4s - loss: 0.6248 - accuracy: 0.7844 - categorical_crossentropy: 0.6248"
     ]
    },
    {
     "name": "stderr",
     "output_type": "stream",
     "text": [
      "2024-11-02 12:53:43.061827: W tensorflow/core/lib/png/png_io.cc:88] PNG warning: iCCP: known incorrect sRGB profile\n"
     ]
    },
    {
     "name": "stdout",
     "output_type": "stream",
     "text": [
      "523/638 [=======================>......] - ETA: 2s - loss: 0.5993 - accuracy: 0.7925 - categorical_crossentropy: 0.5993"
     ]
    },
    {
     "name": "stderr",
     "output_type": "stream",
     "text": [
      "2024-11-02 12:53:45.439599: W tensorflow/core/lib/png/png_io.cc:88] PNG warning: iCCP: known incorrect sRGB profile\n"
     ]
    },
    {
     "name": "stdout",
     "output_type": "stream",
     "text": [
      "638/638 [==============================] - 16s 25ms/step - loss: 0.5806 - accuracy: 0.7961 - categorical_crossentropy: 0.5806 - val_loss: 1.7795 - val_accuracy: 0.5322 - val_categorical_crossentropy: 1.7795\n",
      "Epoch 14/30\n",
      "421/638 [==================>...........] - ETA: 4s - loss: 0.5678 - accuracy: 0.8070 - categorical_crossentropy: 0.5678"
     ]
    },
    {
     "name": "stderr",
     "output_type": "stream",
     "text": [
      "2024-11-02 12:53:58.701604: W tensorflow/core/lib/png/png_io.cc:88] PNG warning: iCCP: known incorrect sRGB profile\n"
     ]
    },
    {
     "name": "stdout",
     "output_type": "stream",
     "text": [
      "526/638 [=======================>......] - ETA: 2s - loss: 0.5556 - accuracy: 0.8089 - categorical_crossentropy: 0.5556"
     ]
    },
    {
     "name": "stderr",
     "output_type": "stream",
     "text": [
      "2024-11-02 12:54:01.080662: W tensorflow/core/lib/png/png_io.cc:88] PNG warning: iCCP: known incorrect sRGB profile\n"
     ]
    },
    {
     "name": "stdout",
     "output_type": "stream",
     "text": [
      "638/638 [==============================] - 16s 24ms/step - loss: 0.5591 - accuracy: 0.8063 - categorical_crossentropy: 0.5591 - val_loss: 1.7761 - val_accuracy: 0.5133 - val_categorical_crossentropy: 1.7761\n",
      "Epoch 15/30\n",
      "421/638 [==================>...........] - ETA: 4s - loss: 0.6233 - accuracy: 0.7933 - categorical_crossentropy: 0.6233"
     ]
    },
    {
     "name": "stderr",
     "output_type": "stream",
     "text": [
      "2024-11-02 12:54:14.335958: W tensorflow/core/lib/png/png_io.cc:88] PNG warning: iCCP: known incorrect sRGB profile\n"
     ]
    },
    {
     "name": "stdout",
     "output_type": "stream",
     "text": [
      "526/638 [=======================>......] - ETA: 2s - loss: 0.6179 - accuracy: 0.7942 - categorical_crossentropy: 0.6179"
     ]
    },
    {
     "name": "stderr",
     "output_type": "stream",
     "text": [
      "2024-11-02 12:54:16.679927: W tensorflow/core/lib/png/png_io.cc:88] PNG warning: iCCP: known incorrect sRGB profile\n"
     ]
    },
    {
     "name": "stdout",
     "output_type": "stream",
     "text": [
      "638/638 [==============================] - 16s 24ms/step - loss: 0.5990 - accuracy: 0.7976 - categorical_crossentropy: 0.5990 - val_loss: 1.7105 - val_accuracy: 0.5118 - val_categorical_crossentropy: 1.7105\n",
      "Epoch 16/30\n",
      "420/638 [==================>...........] - ETA: 4s - loss: 0.5578 - accuracy: 0.8083 - categorical_crossentropy: 0.5578"
     ]
    },
    {
     "name": "stderr",
     "output_type": "stream",
     "text": [
      "2024-11-02 12:54:29.895919: W tensorflow/core/lib/png/png_io.cc:88] PNG warning: iCCP: known incorrect sRGB profile\n"
     ]
    },
    {
     "name": "stdout",
     "output_type": "stream",
     "text": [
      "525/638 [=======================>......] - ETA: 2s - loss: 0.5457 - accuracy: 0.8143 - categorical_crossentropy: 0.5457"
     ]
    },
    {
     "name": "stderr",
     "output_type": "stream",
     "text": [
      "2024-11-02 12:54:32.263665: W tensorflow/core/lib/png/png_io.cc:88] PNG warning: iCCP: known incorrect sRGB profile\n"
     ]
    },
    {
     "name": "stdout",
     "output_type": "stream",
     "text": [
      "638/638 [==============================] - 16s 24ms/step - loss: 0.5440 - accuracy: 0.8153 - categorical_crossentropy: 0.5440 - val_loss: 1.7745 - val_accuracy: 0.5385 - val_categorical_crossentropy: 1.7745\n",
      "Epoch 17/30\n",
      "420/638 [==================>...........] - ETA: 4s - loss: 0.6315 - accuracy: 0.7946 - categorical_crossentropy: 0.6315"
     ]
    },
    {
     "name": "stderr",
     "output_type": "stream",
     "text": [
      "2024-11-02 12:54:45.500879: W tensorflow/core/lib/png/png_io.cc:88] PNG warning: iCCP: known incorrect sRGB profile\n"
     ]
    },
    {
     "name": "stdout",
     "output_type": "stream",
     "text": [
      "525/638 [=======================>......] - ETA: 2s - loss: 0.6033 - accuracy: 0.7976 - categorical_crossentropy: 0.6033"
     ]
    },
    {
     "name": "stderr",
     "output_type": "stream",
     "text": [
      "2024-11-02 12:54:47.852631: W tensorflow/core/lib/png/png_io.cc:88] PNG warning: iCCP: known incorrect sRGB profile\n"
     ]
    },
    {
     "name": "stdout",
     "output_type": "stream",
     "text": [
      "638/638 [==============================] - 16s 24ms/step - loss: 0.5876 - accuracy: 0.8039 - categorical_crossentropy: 0.5876 - val_loss: 2.3501 - val_accuracy: 0.4992 - val_categorical_crossentropy: 2.3501\n",
      "Epoch 18/30\n",
      "420/638 [==================>...........] - ETA: 4s - loss: 0.5303 - accuracy: 0.8143 - categorical_crossentropy: 0.5303"
     ]
    },
    {
     "name": "stderr",
     "output_type": "stream",
     "text": [
      "2024-11-02 12:55:01.166640: W tensorflow/core/lib/png/png_io.cc:88] PNG warning: iCCP: known incorrect sRGB profile\n"
     ]
    },
    {
     "name": "stdout",
     "output_type": "stream",
     "text": [
      "524/638 [=======================>......] - ETA: 2s - loss: 0.5521 - accuracy: 0.8082 - categorical_crossentropy: 0.5521"
     ]
    },
    {
     "name": "stderr",
     "output_type": "stream",
     "text": [
      "2024-11-02 12:55:03.539547: W tensorflow/core/lib/png/png_io.cc:88] PNG warning: iCCP: known incorrect sRGB profile\n"
     ]
    },
    {
     "name": "stdout",
     "output_type": "stream",
     "text": [
      "638/638 [==============================] - 16s 25ms/step - loss: 0.5514 - accuracy: 0.8031 - categorical_crossentropy: 0.5514 - val_loss: 1.6145 - val_accuracy: 0.5212 - val_categorical_crossentropy: 1.6145\n",
      "Epoch 19/30\n",
      "421/638 [==================>...........] - ETA: 4s - loss: 0.5358 - accuracy: 0.8135 - categorical_crossentropy: 0.5358"
     ]
    },
    {
     "name": "stderr",
     "output_type": "stream",
     "text": [
      "2024-11-02 12:55:16.834214: W tensorflow/core/lib/png/png_io.cc:88] PNG warning: iCCP: known incorrect sRGB profile\n"
     ]
    },
    {
     "name": "stdout",
     "output_type": "stream",
     "text": [
      "523/638 [=======================>......] - ETA: 2s - loss: 0.5375 - accuracy: 0.8141 - categorical_crossentropy: 0.5375"
     ]
    },
    {
     "name": "stderr",
     "output_type": "stream",
     "text": [
      "2024-11-02 12:55:19.210614: W tensorflow/core/lib/png/png_io.cc:88] PNG warning: iCCP: known incorrect sRGB profile\n"
     ]
    },
    {
     "name": "stdout",
     "output_type": "stream",
     "text": [
      "638/638 [==============================] - 16s 25ms/step - loss: 0.5497 - accuracy: 0.8098 - categorical_crossentropy: 0.5497 - val_loss: 1.7473 - val_accuracy: 0.5228 - val_categorical_crossentropy: 1.7473\n",
      "Epoch 20/30\n",
      "421/638 [==================>...........] - ETA: 4s - loss: 0.4732 - accuracy: 0.8296 - categorical_crossentropy: 0.4732"
     ]
    },
    {
     "name": "stderr",
     "output_type": "stream",
     "text": [
      "2024-11-02 12:55:32.495863: W tensorflow/core/lib/png/png_io.cc:88] PNG warning: iCCP: known incorrect sRGB profile\n"
     ]
    },
    {
     "name": "stdout",
     "output_type": "stream",
     "text": [
      "526/638 [=======================>......] - ETA: 2s - loss: 0.4806 - accuracy: 0.8298 - categorical_crossentropy: 0.4806"
     ]
    },
    {
     "name": "stderr",
     "output_type": "stream",
     "text": [
      "2024-11-02 12:55:34.864978: W tensorflow/core/lib/png/png_io.cc:88] PNG warning: iCCP: known incorrect sRGB profile\n"
     ]
    },
    {
     "name": "stdout",
     "output_type": "stream",
     "text": [
      "638/638 [==============================] - 16s 24ms/step - loss: 0.4860 - accuracy: 0.8306 - categorical_crossentropy: 0.4860 - val_loss: 1.8183 - val_accuracy: 0.5228 - val_categorical_crossentropy: 1.8183\n",
      "Epoch 21/30\n",
      "420/638 [==================>...........] - ETA: 4s - loss: 0.5130 - accuracy: 0.8387 - categorical_crossentropy: 0.5130"
     ]
    },
    {
     "name": "stderr",
     "output_type": "stream",
     "text": [
      "2024-11-02 12:55:48.118305: W tensorflow/core/lib/png/png_io.cc:88] PNG warning: iCCP: known incorrect sRGB profile\n"
     ]
    },
    {
     "name": "stdout",
     "output_type": "stream",
     "text": [
      "525/638 [=======================>......] - ETA: 2s - loss: 0.5017 - accuracy: 0.8395 - categorical_crossentropy: 0.5017"
     ]
    },
    {
     "name": "stderr",
     "output_type": "stream",
     "text": [
      "2024-11-02 12:55:50.480041: W tensorflow/core/lib/png/png_io.cc:88] PNG warning: iCCP: known incorrect sRGB profile\n"
     ]
    },
    {
     "name": "stdout",
     "output_type": "stream",
     "text": [
      "638/638 [==============================] - 16s 24ms/step - loss: 0.4912 - accuracy: 0.8408 - categorical_crossentropy: 0.4912 - val_loss: 2.0871 - val_accuracy: 0.4992 - val_categorical_crossentropy: 2.0871\n",
      "Epoch 22/30\n",
      "420/638 [==================>...........] - ETA: 5s - loss: 0.5049 - accuracy: 0.8363 - categorical_crossentropy: 0.5049"
     ]
    },
    {
     "name": "stderr",
     "output_type": "stream",
     "text": [
      "2024-11-02 12:56:04.262519: W tensorflow/core/lib/png/png_io.cc:88] PNG warning: iCCP: known incorrect sRGB profile\n"
     ]
    },
    {
     "name": "stdout",
     "output_type": "stream",
     "text": [
      "525/638 [=======================>......] - ETA: 2s - loss: 0.5023 - accuracy: 0.8348 - categorical_crossentropy: 0.5023"
     ]
    },
    {
     "name": "stderr",
     "output_type": "stream",
     "text": [
      "2024-11-02 12:56:06.765156: W tensorflow/core/lib/png/png_io.cc:88] PNG warning: iCCP: known incorrect sRGB profile\n"
     ]
    },
    {
     "name": "stdout",
     "output_type": "stream",
     "text": [
      "638/638 [==============================] - 16s 26ms/step - loss: 0.4906 - accuracy: 0.8353 - categorical_crossentropy: 0.4906 - val_loss: 1.8919 - val_accuracy: 0.5353 - val_categorical_crossentropy: 1.8919\n",
      "Epoch 23/30\n",
      "420/638 [==================>...........] - ETA: 5s - loss: 0.5373 - accuracy: 0.8226 - categorical_crossentropy: 0.5373"
     ]
    },
    {
     "name": "stderr",
     "output_type": "stream",
     "text": [
      "2024-11-02 12:56:20.491536: W tensorflow/core/lib/png/png_io.cc:88] PNG warning: iCCP: known incorrect sRGB profile\n"
     ]
    },
    {
     "name": "stdout",
     "output_type": "stream",
     "text": [
      "525/638 [=======================>......] - ETA: 2s - loss: 0.5524 - accuracy: 0.8167 - categorical_crossentropy: 0.5524"
     ]
    },
    {
     "name": "stderr",
     "output_type": "stream",
     "text": [
      "2024-11-02 12:56:22.899603: W tensorflow/core/lib/png/png_io.cc:88] PNG warning: iCCP: known incorrect sRGB profile\n"
     ]
    },
    {
     "name": "stdout",
     "output_type": "stream",
     "text": [
      "638/638 [==============================] - 16s 25ms/step - loss: 0.5521 - accuracy: 0.8176 - categorical_crossentropy: 0.5521 - val_loss: 1.9031 - val_accuracy: 0.5322 - val_categorical_crossentropy: 1.9031\n",
      "Epoch 24/30\n",
      "420/638 [==================>...........] - ETA: 5s - loss: 0.4564 - accuracy: 0.8452 - categorical_crossentropy: 0.4564"
     ]
    },
    {
     "name": "stderr",
     "output_type": "stream",
     "text": [
      "2024-11-02 12:56:36.477076: W tensorflow/core/lib/png/png_io.cc:88] PNG warning: iCCP: known incorrect sRGB profile\n"
     ]
    },
    {
     "name": "stdout",
     "output_type": "stream",
     "text": [
      "525/638 [=======================>......] - ETA: 2s - loss: 0.4570 - accuracy: 0.8448 - categorical_crossentropy: 0.4570"
     ]
    },
    {
     "name": "stderr",
     "output_type": "stream",
     "text": [
      "2024-11-02 12:56:38.858974: W tensorflow/core/lib/png/png_io.cc:88] PNG warning: iCCP: known incorrect sRGB profile\n"
     ]
    },
    {
     "name": "stdout",
     "output_type": "stream",
     "text": [
      "638/638 [==============================] - 16s 25ms/step - loss: 0.4657 - accuracy: 0.8404 - categorical_crossentropy: 0.4657 - val_loss: 2.1059 - val_accuracy: 0.5055 - val_categorical_crossentropy: 2.1059\n",
      "Epoch 25/30\n",
      "421/638 [==================>...........] - ETA: 5s - loss: 0.5729 - accuracy: 0.8224 - categorical_crossentropy: 0.5729"
     ]
    },
    {
     "name": "stderr",
     "output_type": "stream",
     "text": [
      "2024-11-02 12:56:52.379168: W tensorflow/core/lib/png/png_io.cc:88] PNG warning: iCCP: known incorrect sRGB profile\n"
     ]
    },
    {
     "name": "stdout",
     "output_type": "stream",
     "text": [
      "525/638 [=======================>......] - ETA: 2s - loss: 0.5511 - accuracy: 0.8286 - categorical_crossentropy: 0.5511"
     ]
    },
    {
     "name": "stderr",
     "output_type": "stream",
     "text": [
      "2024-11-02 12:56:54.787429: W tensorflow/core/lib/png/png_io.cc:88] PNG warning: iCCP: known incorrect sRGB profile\n"
     ]
    },
    {
     "name": "stdout",
     "output_type": "stream",
     "text": [
      "638/638 [==============================] - 16s 25ms/step - loss: 0.5386 - accuracy: 0.8314 - categorical_crossentropy: 0.5386 - val_loss: 1.8578 - val_accuracy: 0.5196 - val_categorical_crossentropy: 1.8578\n",
      "Epoch 26/30\n",
      "422/638 [==================>...........] - ETA: 4s - loss: 0.4928 - accuracy: 0.8300 - categorical_crossentropy: 0.4928"
     ]
    },
    {
     "name": "stderr",
     "output_type": "stream",
     "text": [
      "2024-11-02 12:57:08.306827: W tensorflow/core/lib/png/png_io.cc:88] PNG warning: iCCP: known incorrect sRGB profile\n"
     ]
    },
    {
     "name": "stdout",
     "output_type": "stream",
     "text": [
      "523/638 [=======================>......] - ETA: 2s - loss: 0.4788 - accuracy: 0.8356 - categorical_crossentropy: 0.4788"
     ]
    },
    {
     "name": "stderr",
     "output_type": "stream",
     "text": [
      "2024-11-02 12:57:10.729645: W tensorflow/core/lib/png/png_io.cc:88] PNG warning: iCCP: known incorrect sRGB profile\n"
     ]
    },
    {
     "name": "stdout",
     "output_type": "stream",
     "text": [
      "638/638 [==============================] - 16s 25ms/step - loss: 0.4955 - accuracy: 0.8318 - categorical_crossentropy: 0.4955 - val_loss: 1.6558 - val_accuracy: 0.5463 - val_categorical_crossentropy: 1.6558\n",
      "Epoch 27/30\n",
      "420/638 [==================>...........] - ETA: 5s - loss: 0.5221 - accuracy: 0.8339 - categorical_crossentropy: 0.5221"
     ]
    },
    {
     "name": "stderr",
     "output_type": "stream",
     "text": [
      "2024-11-02 12:57:24.297652: W tensorflow/core/lib/png/png_io.cc:88] PNG warning: iCCP: known incorrect sRGB profile\n"
     ]
    },
    {
     "name": "stdout",
     "output_type": "stream",
     "text": [
      "525/638 [=======================>......] - ETA: 2s - loss: 0.5027 - accuracy: 0.8333 - categorical_crossentropy: 0.5027"
     ]
    },
    {
     "name": "stderr",
     "output_type": "stream",
     "text": [
      "2024-11-02 12:57:26.698266: W tensorflow/core/lib/png/png_io.cc:88] PNG warning: iCCP: known incorrect sRGB profile\n"
     ]
    },
    {
     "name": "stdout",
     "output_type": "stream",
     "text": [
      "638/638 [==============================] - 16s 25ms/step - loss: 0.4916 - accuracy: 0.8365 - categorical_crossentropy: 0.4916 - val_loss: 1.9556 - val_accuracy: 0.5447 - val_categorical_crossentropy: 1.9556\n",
      "Epoch 28/30\n",
      "421/638 [==================>...........] - ETA: 5s - loss: 0.4742 - accuracy: 0.8426 - categorical_crossentropy: 0.4742"
     ]
    },
    {
     "name": "stderr",
     "output_type": "stream",
     "text": [
      "2024-11-02 12:57:40.271987: W tensorflow/core/lib/png/png_io.cc:88] PNG warning: iCCP: known incorrect sRGB profile\n"
     ]
    },
    {
     "name": "stdout",
     "output_type": "stream",
     "text": [
      "523/638 [=======================>......] - ETA: 2s - loss: 0.4606 - accuracy: 0.8466 - categorical_crossentropy: 0.4606"
     ]
    },
    {
     "name": "stderr",
     "output_type": "stream",
     "text": [
      "2024-11-02 12:57:42.699217: W tensorflow/core/lib/png/png_io.cc:88] PNG warning: iCCP: known incorrect sRGB profile\n"
     ]
    },
    {
     "name": "stdout",
     "output_type": "stream",
     "text": [
      "638/638 [==============================] - 16s 25ms/step - loss: 0.4570 - accuracy: 0.8522 - categorical_crossentropy: 0.4570 - val_loss: 1.9248 - val_accuracy: 0.5526 - val_categorical_crossentropy: 1.9248\n",
      "Epoch 29/30\n",
      "420/638 [==================>...........] - ETA: 5s - loss: 0.5079 - accuracy: 0.8399 - categorical_crossentropy: 0.5079"
     ]
    },
    {
     "name": "stderr",
     "output_type": "stream",
     "text": [
      "2024-11-02 12:57:56.277904: W tensorflow/core/lib/png/png_io.cc:88] PNG warning: iCCP: known incorrect sRGB profile\n"
     ]
    },
    {
     "name": "stdout",
     "output_type": "stream",
     "text": [
      "525/638 [=======================>......] - ETA: 2s - loss: 0.4979 - accuracy: 0.8410 - categorical_crossentropy: 0.4979"
     ]
    },
    {
     "name": "stderr",
     "output_type": "stream",
     "text": [
      "2024-11-02 12:57:58.681435: W tensorflow/core/lib/png/png_io.cc:88] PNG warning: iCCP: known incorrect sRGB profile\n"
     ]
    },
    {
     "name": "stdout",
     "output_type": "stream",
     "text": [
      "638/638 [==============================] - 16s 25ms/step - loss: 0.4912 - accuracy: 0.8435 - categorical_crossentropy: 0.4912 - val_loss: 1.8490 - val_accuracy: 0.5338 - val_categorical_crossentropy: 1.8490\n",
      "Epoch 30/30\n",
      "420/638 [==================>...........] - ETA: 5s - loss: 0.4514 - accuracy: 0.8488 - categorical_crossentropy: 0.4514"
     ]
    },
    {
     "name": "stderr",
     "output_type": "stream",
     "text": [
      "2024-11-02 12:58:12.180392: W tensorflow/core/lib/png/png_io.cc:88] PNG warning: iCCP: known incorrect sRGB profile\n"
     ]
    },
    {
     "name": "stdout",
     "output_type": "stream",
     "text": [
      "524/638 [=======================>......] - ETA: 2s - loss: 0.4442 - accuracy: 0.8483 - categorical_crossentropy: 0.4442"
     ]
    },
    {
     "name": "stderr",
     "output_type": "stream",
     "text": [
      "2024-11-02 12:58:14.588549: W tensorflow/core/lib/png/png_io.cc:88] PNG warning: iCCP: known incorrect sRGB profile\n"
     ]
    },
    {
     "name": "stdout",
     "output_type": "stream",
     "text": [
      "638/638 [==============================] - 16s 25ms/step - loss: 0.4479 - accuracy: 0.8478 - categorical_crossentropy: 0.4479 - val_loss: 2.0132 - val_accuracy: 0.5275 - val_categorical_crossentropy: 2.0132\n"
     ]
    },
    {
     "data": {
      "text/plain": [
       "<keras.src.callbacks.History at 0x7f7b506eb1c0>"
      ]
     },
     "execution_count": 6,
     "metadata": {},
     "output_type": "execute_result"
    }
   ],
   "source": [
    "model.fit(train_ds, epochs=30, validation_data=val_ds)"
   ]
  },
  {
   "cell_type": "code",
   "execution_count": 7,
   "id": "1700eb1a",
   "metadata": {},
   "outputs": [
    {
     "name": "stdout",
     "output_type": "stream",
     "text": [
      "INFO:tensorflow:Assets written to: best.weights/assets\n"
     ]
    },
    {
     "name": "stderr",
     "output_type": "stream",
     "text": [
      "INFO:tensorflow:Assets written to: best.weights/assets\n"
     ]
    }
   ],
   "source": [
    "model.save(\"best.weights\")"
   ]
  },
  {
   "cell_type": "code",
   "execution_count": null,
   "id": "5f9aee54",
   "metadata": {},
   "outputs": [],
   "source": []
  }
 ],
 "metadata": {
  "kernelspec": {
   "display_name": "Python 3 (ipykernel)",
   "language": "python",
   "name": "python3"
  },
  "language_info": {
   "codemirror_mode": {
    "name": "ipython",
    "version": 3
   },
   "file_extension": ".py",
   "mimetype": "text/x-python",
   "name": "python",
   "nbconvert_exporter": "python",
   "pygments_lexer": "ipython3",
   "version": "3.9.5"
  }
 },
 "nbformat": 4,
 "nbformat_minor": 5
}
